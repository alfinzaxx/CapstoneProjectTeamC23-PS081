{
  "nbformat": 4,
  "nbformat_minor": 0,
  "metadata": {
    "colab": {
      "provenance": []
    },
    "kernelspec": {
      "name": "python3",
      "display_name": "Python 3"
    },
    "language_info": {
      "name": "python"
    }
  },
  "cells": [
    {
      "cell_type": "markdown",
      "source": [
        "# **Get Started with TensorFlow Recommenders and Matrix Factorization**\n",
        "A hands-on tutorial on recommender systems with TensorFlow\n",
        "**Code and Idea According :** https://medium.com/geekculture/get-started-with-tensorflow-recommenders-and-matrix-factorization-a90abae852e1"
      ],
      "metadata": {
        "id": "lyDwtwPm265D"
      }
    },
    {
      "cell_type": "code",
      "source": [
        "!pip install -q tensorflow-recommenders"
      ],
      "metadata": {
        "id": "CAmGjvRLz8ON",
        "colab": {
          "base_uri": "https://localhost:8080/"
        },
        "outputId": "cfe5cb9b-f7c9-4dce-892f-76405d614cc3"
      },
      "execution_count": 1,
      "outputs": [
        {
          "output_type": "stream",
          "name": "stdout",
          "text": [
            "\u001b[?25l     \u001b[90m━━━━━━━━━━━━━━━━━━━━━━━━━━━━━━━━━━━━━━━━\u001b[0m \u001b[32m0.0/96.2 kB\u001b[0m \u001b[31m?\u001b[0m eta \u001b[36m-:--:--\u001b[0m\r\u001b[2K     \u001b[90m━━━━━━━━━━━━━━━━━━━━━━━━━━━━━━━━━━━━━━━━\u001b[0m \u001b[32m96.2/96.2 kB\u001b[0m \u001b[31m7.1 MB/s\u001b[0m eta \u001b[36m0:00:00\u001b[0m\n",
            "\u001b[?25h"
          ]
        }
      ]
    },
    {
      "cell_type": "code",
      "source": [
        "from typing import Dict, Text\n",
        "\n",
        "import numpy as np\n",
        "import pandas as pd\n",
        "import tensorflow as tf\n",
        "\n",
        "import tensorflow_recommenders as tfrs"
      ],
      "metadata": {
        "id": "RWuDkME10A4k"
      },
      "execution_count": 2,
      "outputs": []
    },
    {
      "cell_type": "markdown",
      "source": [
        "# **Preprocess the Data**\n",
        "We will work with the [MovieLens dataset](https://https://grouplens.org/datasets/movielens/100k/), collected by the GroupLens Research Project at the University of Minnesota. Our goal is to build a model that suggests movies to users. We will keep the user-item pairs where the rating is above 3 and this is because we would like to recommend movies that the user is likely to watch but also like."
      ],
      "metadata": {
        "id": "fcGLIUoV3vqJ"
      }
    },
    {
      "cell_type": "markdown",
      "source": [
        "In this post, we will work with the TensorFlow tutorial where we will try to go deeper by showing:\n",
        "*   How to start with a pandas data frame instead of a TensorFlow datasets\n",
        "*   How to get the Users’ and Items’ Embeddings\n",
        "*   How to find the expected score for every item for each user\n",
        "*   How to make recommendations for each user\n",
        "*   How to find similar items\n",
        "*   How to save and load the TensorFlow model"
      ],
      "metadata": {
        "id": "x9N9HA2r3W_C"
      }
    },
    {
      "cell_type": "code",
      "source": [
        "import pandas as pd"
      ],
      "metadata": {
        "id": "aEtNLPh1w7I3"
      },
      "execution_count": 3,
      "outputs": []
    },
    {
      "cell_type": "code",
      "source": [
        "url = 'https://raw.githubusercontent.com/sulthonpriyan/CapstoneProjectTeamC23-PS081/main/MachineLearning/EkstrasiData/rating.csv'\n",
        "ratings = pd.read_csv(url)\n",
        "ratings"
      ],
      "metadata": {
        "colab": {
          "base_uri": "https://localhost:8080/",
          "height": 424
        },
        "id": "uxzVVV4NuLaK",
        "outputId": "b7e22fbd-08b0-4054-f75b-9c0268e82aa5"
      },
      "execution_count": 4,
      "outputs": [
        {
          "output_type": "execute_result",
          "data": {
            "text/plain": [
              "      userid  produkid  rating\n",
              "0          0         1       5\n",
              "1          0         2       5\n",
              "2          0         3       5\n",
              "3          0         4       1\n",
              "4          0         5       1\n",
              "...      ...       ...     ...\n",
              "2795      99        24       1\n",
              "2796      99        25       1\n",
              "2797      99        26       5\n",
              "2798      99        27       5\n",
              "2799      99        28       1\n",
              "\n",
              "[2800 rows x 3 columns]"
            ],
            "text/html": [
              "\n",
              "  <div id=\"df-11fd7532-8f38-4d50-9708-41afb71832ec\">\n",
              "    <div class=\"colab-df-container\">\n",
              "      <div>\n",
              "<style scoped>\n",
              "    .dataframe tbody tr th:only-of-type {\n",
              "        vertical-align: middle;\n",
              "    }\n",
              "\n",
              "    .dataframe tbody tr th {\n",
              "        vertical-align: top;\n",
              "    }\n",
              "\n",
              "    .dataframe thead th {\n",
              "        text-align: right;\n",
              "    }\n",
              "</style>\n",
              "<table border=\"1\" class=\"dataframe\">\n",
              "  <thead>\n",
              "    <tr style=\"text-align: right;\">\n",
              "      <th></th>\n",
              "      <th>userid</th>\n",
              "      <th>produkid</th>\n",
              "      <th>rating</th>\n",
              "    </tr>\n",
              "  </thead>\n",
              "  <tbody>\n",
              "    <tr>\n",
              "      <th>0</th>\n",
              "      <td>0</td>\n",
              "      <td>1</td>\n",
              "      <td>5</td>\n",
              "    </tr>\n",
              "    <tr>\n",
              "      <th>1</th>\n",
              "      <td>0</td>\n",
              "      <td>2</td>\n",
              "      <td>5</td>\n",
              "    </tr>\n",
              "    <tr>\n",
              "      <th>2</th>\n",
              "      <td>0</td>\n",
              "      <td>3</td>\n",
              "      <td>5</td>\n",
              "    </tr>\n",
              "    <tr>\n",
              "      <th>3</th>\n",
              "      <td>0</td>\n",
              "      <td>4</td>\n",
              "      <td>1</td>\n",
              "    </tr>\n",
              "    <tr>\n",
              "      <th>4</th>\n",
              "      <td>0</td>\n",
              "      <td>5</td>\n",
              "      <td>1</td>\n",
              "    </tr>\n",
              "    <tr>\n",
              "      <th>...</th>\n",
              "      <td>...</td>\n",
              "      <td>...</td>\n",
              "      <td>...</td>\n",
              "    </tr>\n",
              "    <tr>\n",
              "      <th>2795</th>\n",
              "      <td>99</td>\n",
              "      <td>24</td>\n",
              "      <td>1</td>\n",
              "    </tr>\n",
              "    <tr>\n",
              "      <th>2796</th>\n",
              "      <td>99</td>\n",
              "      <td>25</td>\n",
              "      <td>1</td>\n",
              "    </tr>\n",
              "    <tr>\n",
              "      <th>2797</th>\n",
              "      <td>99</td>\n",
              "      <td>26</td>\n",
              "      <td>5</td>\n",
              "    </tr>\n",
              "    <tr>\n",
              "      <th>2798</th>\n",
              "      <td>99</td>\n",
              "      <td>27</td>\n",
              "      <td>5</td>\n",
              "    </tr>\n",
              "    <tr>\n",
              "      <th>2799</th>\n",
              "      <td>99</td>\n",
              "      <td>28</td>\n",
              "      <td>1</td>\n",
              "    </tr>\n",
              "  </tbody>\n",
              "</table>\n",
              "<p>2800 rows × 3 columns</p>\n",
              "</div>\n",
              "      <button class=\"colab-df-convert\" onclick=\"convertToInteractive('df-11fd7532-8f38-4d50-9708-41afb71832ec')\"\n",
              "              title=\"Convert this dataframe to an interactive table.\"\n",
              "              style=\"display:none;\">\n",
              "        \n",
              "  <svg xmlns=\"http://www.w3.org/2000/svg\" height=\"24px\"viewBox=\"0 0 24 24\"\n",
              "       width=\"24px\">\n",
              "    <path d=\"M0 0h24v24H0V0z\" fill=\"none\"/>\n",
              "    <path d=\"M18.56 5.44l.94 2.06.94-2.06 2.06-.94-2.06-.94-.94-2.06-.94 2.06-2.06.94zm-11 1L8.5 8.5l.94-2.06 2.06-.94-2.06-.94L8.5 2.5l-.94 2.06-2.06.94zm10 10l.94 2.06.94-2.06 2.06-.94-2.06-.94-.94-2.06-.94 2.06-2.06.94z\"/><path d=\"M17.41 7.96l-1.37-1.37c-.4-.4-.92-.59-1.43-.59-.52 0-1.04.2-1.43.59L10.3 9.45l-7.72 7.72c-.78.78-.78 2.05 0 2.83L4 21.41c.39.39.9.59 1.41.59.51 0 1.02-.2 1.41-.59l7.78-7.78 2.81-2.81c.8-.78.8-2.07 0-2.86zM5.41 20L4 18.59l7.72-7.72 1.47 1.35L5.41 20z\"/>\n",
              "  </svg>\n",
              "      </button>\n",
              "      \n",
              "  <style>\n",
              "    .colab-df-container {\n",
              "      display:flex;\n",
              "      flex-wrap:wrap;\n",
              "      gap: 12px;\n",
              "    }\n",
              "\n",
              "    .colab-df-convert {\n",
              "      background-color: #E8F0FE;\n",
              "      border: none;\n",
              "      border-radius: 50%;\n",
              "      cursor: pointer;\n",
              "      display: none;\n",
              "      fill: #1967D2;\n",
              "      height: 32px;\n",
              "      padding: 0 0 0 0;\n",
              "      width: 32px;\n",
              "    }\n",
              "\n",
              "    .colab-df-convert:hover {\n",
              "      background-color: #E2EBFA;\n",
              "      box-shadow: 0px 1px 2px rgba(60, 64, 67, 0.3), 0px 1px 3px 1px rgba(60, 64, 67, 0.15);\n",
              "      fill: #174EA6;\n",
              "    }\n",
              "\n",
              "    [theme=dark] .colab-df-convert {\n",
              "      background-color: #3B4455;\n",
              "      fill: #D2E3FC;\n",
              "    }\n",
              "\n",
              "    [theme=dark] .colab-df-convert:hover {\n",
              "      background-color: #434B5C;\n",
              "      box-shadow: 0px 1px 3px 1px rgba(0, 0, 0, 0.15);\n",
              "      filter: drop-shadow(0px 1px 2px rgba(0, 0, 0, 0.3));\n",
              "      fill: #FFFFFF;\n",
              "    }\n",
              "  </style>\n",
              "\n",
              "      <script>\n",
              "        const buttonEl =\n",
              "          document.querySelector('#df-11fd7532-8f38-4d50-9708-41afb71832ec button.colab-df-convert');\n",
              "        buttonEl.style.display =\n",
              "          google.colab.kernel.accessAllowed ? 'block' : 'none';\n",
              "\n",
              "        async function convertToInteractive(key) {\n",
              "          const element = document.querySelector('#df-11fd7532-8f38-4d50-9708-41afb71832ec');\n",
              "          const dataTable =\n",
              "            await google.colab.kernel.invokeFunction('convertToInteractive',\n",
              "                                                     [key], {});\n",
              "          if (!dataTable) return;\n",
              "\n",
              "          const docLinkHtml = 'Like what you see? Visit the ' +\n",
              "            '<a target=\"_blank\" href=https://colab.research.google.com/notebooks/data_table.ipynb>data table notebook</a>'\n",
              "            + ' to learn more about interactive tables.';\n",
              "          element.innerHTML = '';\n",
              "          dataTable['output_type'] = 'display_data';\n",
              "          await google.colab.output.renderOutput(dataTable, element);\n",
              "          const docLink = document.createElement('div');\n",
              "          docLink.innerHTML = docLinkHtml;\n",
              "          element.appendChild(docLink);\n",
              "        }\n",
              "      </script>\n",
              "    </div>\n",
              "  </div>\n",
              "  "
            ]
          },
          "metadata": {},
          "execution_count": 4
        }
      ]
    },
    {
      "cell_type": "code",
      "source": [
        "# load the produk data\n",
        "movies = pd.read_csv('https://raw.githubusercontent.com/sulthonpriyan/CapstoneProjectTeamC23-PS081/main/MachineLearning/EkstrasiData/produk.csv')\n",
        "movies"
      ],
      "metadata": {
        "colab": {
          "base_uri": "https://localhost:8080/",
          "height": 927
        },
        "id": "8MviEAERzVWR",
        "outputId": "9ee421e8-54cb-4e26-e0fb-82ef20f62c74"
      },
      "execution_count": 5,
      "outputs": [
        {
          "output_type": "execute_result",
          "data": {
            "text/plain": [
              "    produkid        produkname\n",
              "0          1      pupuk kompos\n",
              "1          2         pupuk npk\n",
              "2          3     pupuk phonska\n",
              "3          4        pupuk cair\n",
              "4          5     pupuk organik\n",
              "5          6   pupuk anorganik\n",
              "6          7     pupuk kambing\n",
              "7          8  bibit kelengkeng\n",
              "8          9      bibit durian\n",
              "9         10     bibit cengkih\n",
              "10        11      bibit mahoni\n",
              "11        12       bibit cabai\n",
              "12        13     bibit alpukat\n",
              "13        14        bibit kopi\n",
              "14        15       bibit randu\n",
              "15        16      bibit kelapa\n",
              "16        17          kangkung\n",
              "17        18             bayam\n",
              "18        19             cabai\n",
              "19        20             jeruk\n",
              "20        21              apel\n",
              "21        22            kelapa\n",
              "22        23              madu\n",
              "23        24        bubuk kopi\n",
              "24        25    tepung tapioka\n",
              "25        26        lada bubuk\n",
              "26        27      tepung mocaf\n",
              "27        28        bubuk jahe"
            ],
            "text/html": [
              "\n",
              "  <div id=\"df-88f45a30-4cb8-44b5-b1c0-b17b3d7388ef\">\n",
              "    <div class=\"colab-df-container\">\n",
              "      <div>\n",
              "<style scoped>\n",
              "    .dataframe tbody tr th:only-of-type {\n",
              "        vertical-align: middle;\n",
              "    }\n",
              "\n",
              "    .dataframe tbody tr th {\n",
              "        vertical-align: top;\n",
              "    }\n",
              "\n",
              "    .dataframe thead th {\n",
              "        text-align: right;\n",
              "    }\n",
              "</style>\n",
              "<table border=\"1\" class=\"dataframe\">\n",
              "  <thead>\n",
              "    <tr style=\"text-align: right;\">\n",
              "      <th></th>\n",
              "      <th>produkid</th>\n",
              "      <th>produkname</th>\n",
              "    </tr>\n",
              "  </thead>\n",
              "  <tbody>\n",
              "    <tr>\n",
              "      <th>0</th>\n",
              "      <td>1</td>\n",
              "      <td>pupuk kompos</td>\n",
              "    </tr>\n",
              "    <tr>\n",
              "      <th>1</th>\n",
              "      <td>2</td>\n",
              "      <td>pupuk npk</td>\n",
              "    </tr>\n",
              "    <tr>\n",
              "      <th>2</th>\n",
              "      <td>3</td>\n",
              "      <td>pupuk phonska</td>\n",
              "    </tr>\n",
              "    <tr>\n",
              "      <th>3</th>\n",
              "      <td>4</td>\n",
              "      <td>pupuk cair</td>\n",
              "    </tr>\n",
              "    <tr>\n",
              "      <th>4</th>\n",
              "      <td>5</td>\n",
              "      <td>pupuk organik</td>\n",
              "    </tr>\n",
              "    <tr>\n",
              "      <th>5</th>\n",
              "      <td>6</td>\n",
              "      <td>pupuk anorganik</td>\n",
              "    </tr>\n",
              "    <tr>\n",
              "      <th>6</th>\n",
              "      <td>7</td>\n",
              "      <td>pupuk kambing</td>\n",
              "    </tr>\n",
              "    <tr>\n",
              "      <th>7</th>\n",
              "      <td>8</td>\n",
              "      <td>bibit kelengkeng</td>\n",
              "    </tr>\n",
              "    <tr>\n",
              "      <th>8</th>\n",
              "      <td>9</td>\n",
              "      <td>bibit durian</td>\n",
              "    </tr>\n",
              "    <tr>\n",
              "      <th>9</th>\n",
              "      <td>10</td>\n",
              "      <td>bibit cengkih</td>\n",
              "    </tr>\n",
              "    <tr>\n",
              "      <th>10</th>\n",
              "      <td>11</td>\n",
              "      <td>bibit mahoni</td>\n",
              "    </tr>\n",
              "    <tr>\n",
              "      <th>11</th>\n",
              "      <td>12</td>\n",
              "      <td>bibit cabai</td>\n",
              "    </tr>\n",
              "    <tr>\n",
              "      <th>12</th>\n",
              "      <td>13</td>\n",
              "      <td>bibit alpukat</td>\n",
              "    </tr>\n",
              "    <tr>\n",
              "      <th>13</th>\n",
              "      <td>14</td>\n",
              "      <td>bibit kopi</td>\n",
              "    </tr>\n",
              "    <tr>\n",
              "      <th>14</th>\n",
              "      <td>15</td>\n",
              "      <td>bibit randu</td>\n",
              "    </tr>\n",
              "    <tr>\n",
              "      <th>15</th>\n",
              "      <td>16</td>\n",
              "      <td>bibit kelapa</td>\n",
              "    </tr>\n",
              "    <tr>\n",
              "      <th>16</th>\n",
              "      <td>17</td>\n",
              "      <td>kangkung</td>\n",
              "    </tr>\n",
              "    <tr>\n",
              "      <th>17</th>\n",
              "      <td>18</td>\n",
              "      <td>bayam</td>\n",
              "    </tr>\n",
              "    <tr>\n",
              "      <th>18</th>\n",
              "      <td>19</td>\n",
              "      <td>cabai</td>\n",
              "    </tr>\n",
              "    <tr>\n",
              "      <th>19</th>\n",
              "      <td>20</td>\n",
              "      <td>jeruk</td>\n",
              "    </tr>\n",
              "    <tr>\n",
              "      <th>20</th>\n",
              "      <td>21</td>\n",
              "      <td>apel</td>\n",
              "    </tr>\n",
              "    <tr>\n",
              "      <th>21</th>\n",
              "      <td>22</td>\n",
              "      <td>kelapa</td>\n",
              "    </tr>\n",
              "    <tr>\n",
              "      <th>22</th>\n",
              "      <td>23</td>\n",
              "      <td>madu</td>\n",
              "    </tr>\n",
              "    <tr>\n",
              "      <th>23</th>\n",
              "      <td>24</td>\n",
              "      <td>bubuk kopi</td>\n",
              "    </tr>\n",
              "    <tr>\n",
              "      <th>24</th>\n",
              "      <td>25</td>\n",
              "      <td>tepung tapioka</td>\n",
              "    </tr>\n",
              "    <tr>\n",
              "      <th>25</th>\n",
              "      <td>26</td>\n",
              "      <td>lada bubuk</td>\n",
              "    </tr>\n",
              "    <tr>\n",
              "      <th>26</th>\n",
              "      <td>27</td>\n",
              "      <td>tepung mocaf</td>\n",
              "    </tr>\n",
              "    <tr>\n",
              "      <th>27</th>\n",
              "      <td>28</td>\n",
              "      <td>bubuk jahe</td>\n",
              "    </tr>\n",
              "  </tbody>\n",
              "</table>\n",
              "</div>\n",
              "      <button class=\"colab-df-convert\" onclick=\"convertToInteractive('df-88f45a30-4cb8-44b5-b1c0-b17b3d7388ef')\"\n",
              "              title=\"Convert this dataframe to an interactive table.\"\n",
              "              style=\"display:none;\">\n",
              "        \n",
              "  <svg xmlns=\"http://www.w3.org/2000/svg\" height=\"24px\"viewBox=\"0 0 24 24\"\n",
              "       width=\"24px\">\n",
              "    <path d=\"M0 0h24v24H0V0z\" fill=\"none\"/>\n",
              "    <path d=\"M18.56 5.44l.94 2.06.94-2.06 2.06-.94-2.06-.94-.94-2.06-.94 2.06-2.06.94zm-11 1L8.5 8.5l.94-2.06 2.06-.94-2.06-.94L8.5 2.5l-.94 2.06-2.06.94zm10 10l.94 2.06.94-2.06 2.06-.94-2.06-.94-.94-2.06-.94 2.06-2.06.94z\"/><path d=\"M17.41 7.96l-1.37-1.37c-.4-.4-.92-.59-1.43-.59-.52 0-1.04.2-1.43.59L10.3 9.45l-7.72 7.72c-.78.78-.78 2.05 0 2.83L4 21.41c.39.39.9.59 1.41.59.51 0 1.02-.2 1.41-.59l7.78-7.78 2.81-2.81c.8-.78.8-2.07 0-2.86zM5.41 20L4 18.59l7.72-7.72 1.47 1.35L5.41 20z\"/>\n",
              "  </svg>\n",
              "      </button>\n",
              "      \n",
              "  <style>\n",
              "    .colab-df-container {\n",
              "      display:flex;\n",
              "      flex-wrap:wrap;\n",
              "      gap: 12px;\n",
              "    }\n",
              "\n",
              "    .colab-df-convert {\n",
              "      background-color: #E8F0FE;\n",
              "      border: none;\n",
              "      border-radius: 50%;\n",
              "      cursor: pointer;\n",
              "      display: none;\n",
              "      fill: #1967D2;\n",
              "      height: 32px;\n",
              "      padding: 0 0 0 0;\n",
              "      width: 32px;\n",
              "    }\n",
              "\n",
              "    .colab-df-convert:hover {\n",
              "      background-color: #E2EBFA;\n",
              "      box-shadow: 0px 1px 2px rgba(60, 64, 67, 0.3), 0px 1px 3px 1px rgba(60, 64, 67, 0.15);\n",
              "      fill: #174EA6;\n",
              "    }\n",
              "\n",
              "    [theme=dark] .colab-df-convert {\n",
              "      background-color: #3B4455;\n",
              "      fill: #D2E3FC;\n",
              "    }\n",
              "\n",
              "    [theme=dark] .colab-df-convert:hover {\n",
              "      background-color: #434B5C;\n",
              "      box-shadow: 0px 1px 3px 1px rgba(0, 0, 0, 0.15);\n",
              "      filter: drop-shadow(0px 1px 2px rgba(0, 0, 0, 0.3));\n",
              "      fill: #FFFFFF;\n",
              "    }\n",
              "  </style>\n",
              "\n",
              "      <script>\n",
              "        const buttonEl =\n",
              "          document.querySelector('#df-88f45a30-4cb8-44b5-b1c0-b17b3d7388ef button.colab-df-convert');\n",
              "        buttonEl.style.display =\n",
              "          google.colab.kernel.accessAllowed ? 'block' : 'none';\n",
              "\n",
              "        async function convertToInteractive(key) {\n",
              "          const element = document.querySelector('#df-88f45a30-4cb8-44b5-b1c0-b17b3d7388ef');\n",
              "          const dataTable =\n",
              "            await google.colab.kernel.invokeFunction('convertToInteractive',\n",
              "                                                     [key], {});\n",
              "          if (!dataTable) return;\n",
              "\n",
              "          const docLinkHtml = 'Like what you see? Visit the ' +\n",
              "            '<a target=\"_blank\" href=https://colab.research.google.com/notebooks/data_table.ipynb>data table notebook</a>'\n",
              "            + ' to learn more about interactive tables.';\n",
              "          element.innerHTML = '';\n",
              "          dataTable['output_type'] = 'display_data';\n",
              "          await google.colab.output.renderOutput(dataTable, element);\n",
              "          const docLink = document.createElement('div');\n",
              "          docLink.innerHTML = docLinkHtml;\n",
              "          element.appendChild(docLink);\n",
              "        }\n",
              "      </script>\n",
              "    </div>\n",
              "  </div>\n",
              "  "
            ]
          },
          "metadata": {},
          "execution_count": 5
        }
      ]
    },
    {
      "cell_type": "code",
      "source": [
        "# join the ratings with the movies\n",
        "ratings = pd.merge(ratings, movies, on='produkid')\n",
        "\n",
        "\n",
        "# keep only moviews with a rating greater than 3\n",
        "ratings = ratings[ratings.rating>3]\n",
        "\n",
        "\n",
        "# keep only the user id and the movie title columns\n",
        "ratings = ratings[['produkname', 'userid']].reset_index(drop=True)\n",
        "\n",
        "ratings"
      ],
      "metadata": {
        "colab": {
          "base_uri": "https://localhost:8080/",
          "height": 424
        },
        "id": "cXia5pz_z1a1",
        "outputId": "a07a86aa-ea96-4351-f302-d3cda130b975"
      },
      "execution_count": 6,
      "outputs": [
        {
          "output_type": "execute_result",
          "data": {
            "text/plain": [
              "        produkname  userid\n",
              "0     pupuk kompos       0\n",
              "1     pupuk kompos       7\n",
              "2     pupuk kompos      11\n",
              "3     pupuk kompos      12\n",
              "4     pupuk kompos      15\n",
              "...            ...     ...\n",
              "1053    bubuk jahe      81\n",
              "1054    bubuk jahe      82\n",
              "1055    bubuk jahe      85\n",
              "1056    bubuk jahe      89\n",
              "1057    bubuk jahe      90\n",
              "\n",
              "[1058 rows x 2 columns]"
            ],
            "text/html": [
              "\n",
              "  <div id=\"df-cce37afc-3461-4443-a440-a61f784aceb3\">\n",
              "    <div class=\"colab-df-container\">\n",
              "      <div>\n",
              "<style scoped>\n",
              "    .dataframe tbody tr th:only-of-type {\n",
              "        vertical-align: middle;\n",
              "    }\n",
              "\n",
              "    .dataframe tbody tr th {\n",
              "        vertical-align: top;\n",
              "    }\n",
              "\n",
              "    .dataframe thead th {\n",
              "        text-align: right;\n",
              "    }\n",
              "</style>\n",
              "<table border=\"1\" class=\"dataframe\">\n",
              "  <thead>\n",
              "    <tr style=\"text-align: right;\">\n",
              "      <th></th>\n",
              "      <th>produkname</th>\n",
              "      <th>userid</th>\n",
              "    </tr>\n",
              "  </thead>\n",
              "  <tbody>\n",
              "    <tr>\n",
              "      <th>0</th>\n",
              "      <td>pupuk kompos</td>\n",
              "      <td>0</td>\n",
              "    </tr>\n",
              "    <tr>\n",
              "      <th>1</th>\n",
              "      <td>pupuk kompos</td>\n",
              "      <td>7</td>\n",
              "    </tr>\n",
              "    <tr>\n",
              "      <th>2</th>\n",
              "      <td>pupuk kompos</td>\n",
              "      <td>11</td>\n",
              "    </tr>\n",
              "    <tr>\n",
              "      <th>3</th>\n",
              "      <td>pupuk kompos</td>\n",
              "      <td>12</td>\n",
              "    </tr>\n",
              "    <tr>\n",
              "      <th>4</th>\n",
              "      <td>pupuk kompos</td>\n",
              "      <td>15</td>\n",
              "    </tr>\n",
              "    <tr>\n",
              "      <th>...</th>\n",
              "      <td>...</td>\n",
              "      <td>...</td>\n",
              "    </tr>\n",
              "    <tr>\n",
              "      <th>1053</th>\n",
              "      <td>bubuk jahe</td>\n",
              "      <td>81</td>\n",
              "    </tr>\n",
              "    <tr>\n",
              "      <th>1054</th>\n",
              "      <td>bubuk jahe</td>\n",
              "      <td>82</td>\n",
              "    </tr>\n",
              "    <tr>\n",
              "      <th>1055</th>\n",
              "      <td>bubuk jahe</td>\n",
              "      <td>85</td>\n",
              "    </tr>\n",
              "    <tr>\n",
              "      <th>1056</th>\n",
              "      <td>bubuk jahe</td>\n",
              "      <td>89</td>\n",
              "    </tr>\n",
              "    <tr>\n",
              "      <th>1057</th>\n",
              "      <td>bubuk jahe</td>\n",
              "      <td>90</td>\n",
              "    </tr>\n",
              "  </tbody>\n",
              "</table>\n",
              "<p>1058 rows × 2 columns</p>\n",
              "</div>\n",
              "      <button class=\"colab-df-convert\" onclick=\"convertToInteractive('df-cce37afc-3461-4443-a440-a61f784aceb3')\"\n",
              "              title=\"Convert this dataframe to an interactive table.\"\n",
              "              style=\"display:none;\">\n",
              "        \n",
              "  <svg xmlns=\"http://www.w3.org/2000/svg\" height=\"24px\"viewBox=\"0 0 24 24\"\n",
              "       width=\"24px\">\n",
              "    <path d=\"M0 0h24v24H0V0z\" fill=\"none\"/>\n",
              "    <path d=\"M18.56 5.44l.94 2.06.94-2.06 2.06-.94-2.06-.94-.94-2.06-.94 2.06-2.06.94zm-11 1L8.5 8.5l.94-2.06 2.06-.94-2.06-.94L8.5 2.5l-.94 2.06-2.06.94zm10 10l.94 2.06.94-2.06 2.06-.94-2.06-.94-.94-2.06-.94 2.06-2.06.94z\"/><path d=\"M17.41 7.96l-1.37-1.37c-.4-.4-.92-.59-1.43-.59-.52 0-1.04.2-1.43.59L10.3 9.45l-7.72 7.72c-.78.78-.78 2.05 0 2.83L4 21.41c.39.39.9.59 1.41.59.51 0 1.02-.2 1.41-.59l7.78-7.78 2.81-2.81c.8-.78.8-2.07 0-2.86zM5.41 20L4 18.59l7.72-7.72 1.47 1.35L5.41 20z\"/>\n",
              "  </svg>\n",
              "      </button>\n",
              "      \n",
              "  <style>\n",
              "    .colab-df-container {\n",
              "      display:flex;\n",
              "      flex-wrap:wrap;\n",
              "      gap: 12px;\n",
              "    }\n",
              "\n",
              "    .colab-df-convert {\n",
              "      background-color: #E8F0FE;\n",
              "      border: none;\n",
              "      border-radius: 50%;\n",
              "      cursor: pointer;\n",
              "      display: none;\n",
              "      fill: #1967D2;\n",
              "      height: 32px;\n",
              "      padding: 0 0 0 0;\n",
              "      width: 32px;\n",
              "    }\n",
              "\n",
              "    .colab-df-convert:hover {\n",
              "      background-color: #E2EBFA;\n",
              "      box-shadow: 0px 1px 2px rgba(60, 64, 67, 0.3), 0px 1px 3px 1px rgba(60, 64, 67, 0.15);\n",
              "      fill: #174EA6;\n",
              "    }\n",
              "\n",
              "    [theme=dark] .colab-df-convert {\n",
              "      background-color: #3B4455;\n",
              "      fill: #D2E3FC;\n",
              "    }\n",
              "\n",
              "    [theme=dark] .colab-df-convert:hover {\n",
              "      background-color: #434B5C;\n",
              "      box-shadow: 0px 1px 3px 1px rgba(0, 0, 0, 0.15);\n",
              "      filter: drop-shadow(0px 1px 2px rgba(0, 0, 0, 0.3));\n",
              "      fill: #FFFFFF;\n",
              "    }\n",
              "  </style>\n",
              "\n",
              "      <script>\n",
              "        const buttonEl =\n",
              "          document.querySelector('#df-cce37afc-3461-4443-a440-a61f784aceb3 button.colab-df-convert');\n",
              "        buttonEl.style.display =\n",
              "          google.colab.kernel.accessAllowed ? 'block' : 'none';\n",
              "\n",
              "        async function convertToInteractive(key) {\n",
              "          const element = document.querySelector('#df-cce37afc-3461-4443-a440-a61f784aceb3');\n",
              "          const dataTable =\n",
              "            await google.colab.kernel.invokeFunction('convertToInteractive',\n",
              "                                                     [key], {});\n",
              "          if (!dataTable) return;\n",
              "\n",
              "          const docLinkHtml = 'Like what you see? Visit the ' +\n",
              "            '<a target=\"_blank\" href=https://colab.research.google.com/notebooks/data_table.ipynb>data table notebook</a>'\n",
              "            + ' to learn more about interactive tables.';\n",
              "          element.innerHTML = '';\n",
              "          dataTable['output_type'] = 'display_data';\n",
              "          await google.colab.output.renderOutput(dataTable, element);\n",
              "          const docLink = document.createElement('div');\n",
              "          docLink.innerHTML = docLinkHtml;\n",
              "          element.appendChild(docLink);\n",
              "        }\n",
              "      </script>\n",
              "    </div>\n",
              "  </div>\n",
              "  "
            ]
          },
          "metadata": {},
          "execution_count": 6
        }
      ]
    },
    {
      "cell_type": "markdown",
      "source": [
        "# **Build the Model**\n",
        "The idea is to build a retrieval model using user and item embeddings. We will work with the TensorFlow-recommenders library."
      ],
      "metadata": {
        "id": "QPq0Ihu94N2i"
      }
    },
    {
      "cell_type": "markdown",
      "source": [
        "Since we installed the tensorflow-recommenders on Colab, we will load the `ratings.csv` and `movies.csv` that we generated in the previous step."
      ],
      "metadata": {
        "id": "5wMyDDKf4Sgf"
      }
    },
    {
      "cell_type": "code",
      "source": [
        "# read the csv files as pandas data frames\n",
        "ratings_df = ratings #pd.read_csv('ratings.csv')\n",
        "movies_df = movies #pd.read_csv('movies.csv')\n",
        "\n",
        "\n",
        "ratings_df.rename(columns = {'produkname': 'movie_title'}, inplace=True)\n",
        "movies_df.rename(columns = {'produkname': 'movie_title'},  inplace=True)\n",
        "ratings_df.rename(columns = {'userid': 'user_id'}, inplace=True)"
      ],
      "metadata": {
        "id": "lhllrj080Grq"
      },
      "execution_count": 7,
      "outputs": []
    },
    {
      "cell_type": "markdown",
      "source": [
        "Now, we will convert the pandas data frames to TensorFlow datasets."
      ],
      "metadata": {
        "id": "_85fbhQ-4afR"
      }
    },
    {
      "cell_type": "code",
      "source": [
        "# convert them to tf datasets\n",
        "ratings = tf.data.Dataset.from_tensor_slices(dict(ratings_df))\n",
        "movies = tf.data.Dataset.from_tensor_slices(dict(movies_df))"
      ],
      "metadata": {
        "id": "8e72MpbD0JMZ"
      },
      "execution_count": 8,
      "outputs": []
    },
    {
      "cell_type": "markdown",
      "source": [
        "Let’s have a look at our data:"
      ],
      "metadata": {
        "id": "ZhRD2b9b4dFJ"
      }
    },
    {
      "cell_type": "code",
      "source": [
        "# get the first rows of the movies dataset\n",
        "for m in movies.take(5):\n",
        "  print(m)"
      ],
      "metadata": {
        "id": "Ci8DT_2v0L2J",
        "colab": {
          "base_uri": "https://localhost:8080/"
        },
        "outputId": "ed3e4126-16e7-4abc-bf58-7c332f8d0943"
      },
      "execution_count": 9,
      "outputs": [
        {
          "output_type": "stream",
          "name": "stdout",
          "text": [
            "{'produkid': <tf.Tensor: shape=(), dtype=int64, numpy=1>, 'movie_title': <tf.Tensor: shape=(), dtype=string, numpy=b'pupuk kompos'>}\n",
            "{'produkid': <tf.Tensor: shape=(), dtype=int64, numpy=2>, 'movie_title': <tf.Tensor: shape=(), dtype=string, numpy=b'pupuk npk'>}\n",
            "{'produkid': <tf.Tensor: shape=(), dtype=int64, numpy=3>, 'movie_title': <tf.Tensor: shape=(), dtype=string, numpy=b'pupuk phonska'>}\n",
            "{'produkid': <tf.Tensor: shape=(), dtype=int64, numpy=4>, 'movie_title': <tf.Tensor: shape=(), dtype=string, numpy=b'pupuk cair'>}\n",
            "{'produkid': <tf.Tensor: shape=(), dtype=int64, numpy=5>, 'movie_title': <tf.Tensor: shape=(), dtype=string, numpy=b'pupuk organik'>}\n"
          ]
        }
      ]
    },
    {
      "cell_type": "code",
      "source": [
        "# get the first rows of the ratings dataset\n",
        "for r in ratings.take(4):\n",
        "  print(r)"
      ],
      "metadata": {
        "id": "VH6pUzaY0OfA",
        "colab": {
          "base_uri": "https://localhost:8080/"
        },
        "outputId": "cf2605e0-90f3-4cf4-96a9-d4b89ad6a1e5"
      },
      "execution_count": 10,
      "outputs": [
        {
          "output_type": "stream",
          "name": "stdout",
          "text": [
            "{'movie_title': <tf.Tensor: shape=(), dtype=string, numpy=b'pupuk kompos'>, 'user_id': <tf.Tensor: shape=(), dtype=int64, numpy=0>}\n",
            "{'movie_title': <tf.Tensor: shape=(), dtype=string, numpy=b'pupuk kompos'>, 'user_id': <tf.Tensor: shape=(), dtype=int64, numpy=7>}\n",
            "{'movie_title': <tf.Tensor: shape=(), dtype=string, numpy=b'pupuk kompos'>, 'user_id': <tf.Tensor: shape=(), dtype=int64, numpy=11>}\n",
            "{'movie_title': <tf.Tensor: shape=(), dtype=string, numpy=b'pupuk kompos'>, 'user_id': <tf.Tensor: shape=(), dtype=int64, numpy=12>}\n"
          ]
        }
      ]
    },
    {
      "cell_type": "markdown",
      "source": [
        "Let’s keep the basic features of our model."
      ],
      "metadata": {
        "id": "eCsUUTO74hQE"
      }
    },
    {
      "cell_type": "code",
      "source": [
        "# Select the basic features.\n",
        "ratings = ratings.map(lambda x: {\n",
        "    \"movie_title\": x[\"movie_title\"],\n",
        "    \"user_id\": x[\"user_id\"]\n",
        "})\n",
        "movies = movies.map(lambda x: x[\"movie_title\"])"
      ],
      "metadata": {
        "id": "29aYctSt0SDx"
      },
      "execution_count": 11,
      "outputs": []
    },
    {
      "cell_type": "markdown",
      "source": [
        "# **Build vocabularies to convert user ids and movie titles into integer indices for embedding layers**\n",
        "For our model, we need to assign indices for the unique users and movies. Note that we add an extra index for the unknown users and movies respectively."
      ],
      "metadata": {
        "id": "DWxsLGji4soD"
      }
    },
    {
      "cell_type": "code",
      "source": [
        "user_ids_vocabulary = tf.keras.layers.IntegerLookup(mask_token=None)\n",
        "user_ids_vocabulary.adapt(ratings.map(lambda x: x[\"user_id\"]))\n",
        "\n",
        "\n",
        "movie_titles_vocabulary = tf.keras.layers.StringLookup(mask_token=None)\n",
        "movie_titles_vocabulary.adapt(movies)"
      ],
      "metadata": {
        "id": "W3Z0dab-0VVt"
      },
      "execution_count": 12,
      "outputs": []
    },
    {
      "cell_type": "markdown",
      "source": [
        "# **Create the Model**\n",
        "We will work with the tfrs.Model by implementing the compute_loss method."
      ],
      "metadata": {
        "id": "SA-QwdJQ4xZ1"
      }
    },
    {
      "cell_type": "code",
      "source": [
        "class MovieLensModel(tfrs.Model):\n",
        "  # We derive from a custom base class to help reduce boilerplate. Under the hood,\n",
        "  # these are still plain Keras Models.\n",
        "\n",
        "  def __init__(\n",
        "      self,\n",
        "      user_model: tf.keras.Model,\n",
        "      movie_model: tf.keras.Model,\n",
        "      task: tfrs.tasks.Retrieval):\n",
        "    super().__init__()\n",
        "\n",
        "    # Set up user and movie representations.\n",
        "    self.user_model = user_model\n",
        "    self.movie_model = movie_model\n",
        "\n",
        "    # Set up a retrieval task.\n",
        "    self.task = task\n",
        "\n",
        "  def compute_loss(self, features: Dict[Text, tf.Tensor], training=False) -> tf.Tensor:\n",
        "    # Define how the loss is computed.\n",
        "\n",
        "    user_embeddings = self.user_model(features[\"user_id\"])\n",
        "    movie_embeddings = self.movie_model(features[\"movie_title\"])\n",
        "\n",
        "    return self.task(user_embeddings, movie_embeddings)"
      ],
      "metadata": {
        "id": "PxLR5g7I0nxU"
      },
      "execution_count": 13,
      "outputs": []
    },
    {
      "cell_type": "markdown",
      "source": [
        "We have to define the user_model and moview_model which are sequential models for generating the embeddings. Finally, the objective of the task is a retrieval model."
      ],
      "metadata": {
        "id": "P7VBBnrL40Of"
      }
    },
    {
      "cell_type": "code",
      "source": [
        "# Define user and movie models\n",
        "user_model = tf.keras.Sequential([\n",
        "    user_ids_vocabulary,\n",
        "    tf.keras.layers.Embedding(user_ids_vocabulary.vocabulary_size(), 128),\n",
        "    tf.keras.layers.Dense(64),\n",
        "    tf.keras.layers.Dense(32),\n",
        "    tf.keras.layers.Dense(16)\n",
        "])\n",
        "movie_model = tf.keras.Sequential([\n",
        "    movie_titles_vocabulary,\n",
        "    tf.keras.layers.Embedding(movie_titles_vocabulary.vocabulary_size(), 128),\n",
        "    tf.keras.layers.Dense(64),\n",
        "    tf.keras.layers.Dense(32),\n",
        "    tf.keras.layers.Dense(16)\n",
        "])\n",
        "\n",
        "# Define your objectives.\n",
        "task = tfrs.tasks.Retrieval(metrics=tfrs.metrics.FactorizedTopK(\n",
        "    movies.batch(128).map(movie_model)\n",
        "  )\n",
        ")"
      ],
      "metadata": {
        "id": "zuXrssa70tWV"
      },
      "execution_count": 14,
      "outputs": []
    },
    {
      "cell_type": "markdown",
      "source": [
        "# **Fit the Model**\n",
        "The last step is to build the model, train it and make some predictions."
      ],
      "metadata": {
        "id": "2QfJgpCZ43o5"
      }
    },
    {
      "cell_type": "code",
      "source": [
        "# Create a retrieval model.\n",
        "model = MovieLensModel(user_model, movie_model, task)\n",
        "model.compile(optimizer=tf.keras.optimizers.Adagrad(0.2))\n",
        "\n",
        "# Train for n epochs.\n",
        "model.fit(ratings.batch(4000), epochs=5)"
      ],
      "metadata": {
        "id": "0E1VYBr90vjX",
        "colab": {
          "base_uri": "https://localhost:8080/"
        },
        "outputId": "cbcda064-17e6-48f7-c2c5-7d29fb1869de"
      },
      "execution_count": 54,
      "outputs": [
        {
          "output_type": "stream",
          "name": "stdout",
          "text": [
            "Epoch 1/5\n",
            "1/1 [==============================] - 1s 837ms/step - factorized_top_k/top_1_categorical_accuracy: 0.0378 - factorized_top_k/top_5_categorical_accuracy: 0.0992 - factorized_top_k/top_10_categorical_accuracy: 0.1333 - factorized_top_k/top_50_categorical_accuracy: 1.0000 - factorized_top_k/top_100_categorical_accuracy: 1.0000 - loss: 55705728.0000 - regularization_loss: 0.0000e+00 - total_loss: 55705728.0000\n",
            "Epoch 2/5\n",
            "1/1 [==============================] - 0s 71ms/step - factorized_top_k/top_1_categorical_accuracy: 0.0369 - factorized_top_k/top_5_categorical_accuracy: 0.1181 - factorized_top_k/top_10_categorical_accuracy: 0.1597 - factorized_top_k/top_50_categorical_accuracy: 1.0000 - factorized_top_k/top_100_categorical_accuracy: 1.0000 - loss: 171917680.0000 - regularization_loss: 0.0000e+00 - total_loss: 171917680.0000\n",
            "Epoch 3/5\n",
            "1/1 [==============================] - 0s 65ms/step - factorized_top_k/top_1_categorical_accuracy: 0.1578 - factorized_top_k/top_5_categorical_accuracy: 0.8686 - factorized_top_k/top_10_categorical_accuracy: 0.8715 - factorized_top_k/top_50_categorical_accuracy: 1.0000 - factorized_top_k/top_100_categorical_accuracy: 1.0000 - loss: 570144896.0000 - regularization_loss: 0.0000e+00 - total_loss: 570144896.0000\n",
            "Epoch 4/5\n",
            "1/1 [==============================] - 0s 61ms/step - factorized_top_k/top_1_categorical_accuracy: 0.1692 - factorized_top_k/top_5_categorical_accuracy: 0.2675 - factorized_top_k/top_10_categorical_accuracy: 0.3025 - factorized_top_k/top_50_categorical_accuracy: 1.0000 - factorized_top_k/top_100_categorical_accuracy: 1.0000 - loss: 102456160.0000 - regularization_loss: 0.0000e+00 - total_loss: 102456160.0000\n",
            "Epoch 5/5\n",
            "1/1 [==============================] - 0s 59ms/step - factorized_top_k/top_1_categorical_accuracy: 0.8847 - factorized_top_k/top_5_categorical_accuracy: 0.8866 - factorized_top_k/top_10_categorical_accuracy: 0.8875 - factorized_top_k/top_50_categorical_accuracy: 1.0000 - factorized_top_k/top_100_categorical_accuracy: 1.0000 - loss: 107393224.0000 - regularization_loss: 0.0000e+00 - total_loss: 107393224.0000\n"
          ]
        },
        {
          "output_type": "execute_result",
          "data": {
            "text/plain": [
              "<keras.callbacks.History at 0x7f8ade9b9d80>"
            ]
          },
          "metadata": {},
          "execution_count": 54
        }
      ]
    },
    {
      "cell_type": "markdown",
      "source": [
        "# **Make Predictions**\n",
        "Let’s make predictions for the `user_id=42`."
      ],
      "metadata": {
        "id": "woqG6ZcF48J4"
      }
    },
    {
      "cell_type": "code",
      "source": [
        "# Make prediction for Pupuk category\n",
        "# Define List of Pupuk Items\n",
        "\n",
        "pupuk_cat = ['pupuk kompos','pupuk npk','pupuk phonska','pupuk cair','pupuk organik','pupuk anorganik','pupuk kambing']\n",
        "bibit_cat = ['bibit kelengkeng','bibit durian','bibit cengkih','bibit mahoni','bibit cabai','bibit alpukat','bibit kopi','bibit randu','bibit kelapa']\n",
        "buahsayur_cat = ['kangkung','bayam','cabai','jeruk','apel','kelapa']\n",
        "bahanolah_cat = ['madu','bubuk kopi','tepung tapioka','lada bubuk','tepung mocaf','bubuk jahe']"
      ],
      "metadata": {
        "id": "aSR9OXfm4Pi6"
      },
      "execution_count": 66,
      "outputs": []
    },
    {
      "cell_type": "code",
      "source": [
        "# Use brute-force search to set up retrieval using the trained representations.\n",
        "index = tfrs.layers.factorized_top_k.BruteForce(model.user_model)\n",
        "index.index_from_dataset(\n",
        "    movies.batch(100).map(lambda title: (title, model.movie_model(title))))\n",
        "\n",
        "# Get some recommendations.\n",
        "n = 10 #no of recom\n",
        "_, titles = index(np.array([42]))\n",
        "print(f\"Top n recommendations for user 42: {titles[0, :n]}\")\n",
        "pupuk_recom = []\n",
        "for i in titles[0, :n]:\n",
        "  for j in pupuk_cat:\n",
        "    if i == j: pupuk_recom.append(i)\n",
        "\n",
        "print(f\"Some pupuk recommendations for user 42: {pupuk_recom}\")"
      ],
      "metadata": {
        "id": "ne1PKwx40wXx",
        "colab": {
          "base_uri": "https://localhost:8080/"
        },
        "outputId": "5b9ce978-0ea2-460f-a7a2-14a14feb2e70"
      },
      "execution_count": 67,
      "outputs": [
        {
          "output_type": "stream",
          "name": "stdout",
          "text": [
            "Top n recommendations for user 42: [b'kelapa' b'pupuk kompos' b'pupuk npk' b'pupuk phonska' b'bibit randu'\n",
            " b'bibit kelengkeng' b'lada bubuk' b'bibit kelapa' b'pupuk anorganik'\n",
            " b'tepung mocaf']\n",
            "Some pupuk recommendations for user 42: [<tf.Tensor: shape=(), dtype=string, numpy=b'pupuk kompos'>, <tf.Tensor: shape=(), dtype=string, numpy=b'pupuk npk'>, <tf.Tensor: shape=(), dtype=string, numpy=b'pupuk phonska'>, <tf.Tensor: shape=(), dtype=string, numpy=b'pupuk anorganik'>]\n"
          ]
        }
      ]
    },
    {
      "cell_type": "code",
      "source": [
        "np.array([42])\n",
        "# _, titles = index(np.array([42]))\n",
        "# titles[0]"
      ],
      "metadata": {
        "colab": {
          "base_uri": "https://localhost:8080/"
        },
        "id": "7CBxx3cHQbpw",
        "outputId": "18ab5810-4aec-4038-dd0a-98662f26d80a"
      },
      "execution_count": 68,
      "outputs": [
        {
          "output_type": "execute_result",
          "data": {
            "text/plain": [
              "array([42])"
            ]
          },
          "metadata": {},
          "execution_count": 68
        }
      ]
    },
    {
      "cell_type": "code",
      "source": [
        "# Untuk category lainnya copas aja"
      ],
      "metadata": {
        "id": "n0frWhjQ68D-"
      },
      "execution_count": 69,
      "outputs": []
    },
    {
      "cell_type": "markdown",
      "source": [
        "# **Save and Load the Model**\n",
        "To deploy a model like this, we simply export the BruteForce layer we created above:"
      ],
      "metadata": {
        "id": "0CAk5ocA2toQ"
      }
    },
    {
      "cell_type": "code",
      "source": [
        "import tempfile\n",
        "import os\n",
        "# Export the query model.\n",
        "with tempfile.TemporaryDirectory() as tmp:\n",
        "  path = os.path.join(tmp, \"model\")\n",
        "\n",
        "  # Save the index.\n",
        "  tf.saved_model.save(index, path)\n",
        "\n",
        "  # Load it back; can also be done in TensorFlow Serving.\n",
        "  loaded = tf.saved_model.load(path)\n",
        "\n",
        "  # Pass a user id in, get top predicted movie titles back.\n",
        "  scores, titles = loaded([42])\n",
        "  print(f\"Recommendations: {titles[0][:3]}\")"
      ],
      "metadata": {
        "id": "xbOXCDnH2vZv",
        "colab": {
          "base_uri": "https://localhost:8080/"
        },
        "outputId": "748d9463-7dc6-498d-a32d-f8b5af58223d"
      },
      "execution_count": 70,
      "outputs": [
        {
          "output_type": "stream",
          "name": "stderr",
          "text": [
            "WARNING:tensorflow:Model's `__init__()` arguments contain non-serializable objects. Please implement a `get_config()` method in the subclassed Model for proper saving and loading. Defaulting to empty config.\n",
            "WARNING:tensorflow:Model's `__init__()` arguments contain non-serializable objects. Please implement a `get_config()` method in the subclassed Model for proper saving and loading. Defaulting to empty config.\n",
            "WARNING:absl:Found untraced functions such as query_with_exclusions while saving (showing 1 of 1). These functions will not be directly callable after loading.\n"
          ]
        },
        {
          "output_type": "stream",
          "name": "stdout",
          "text": [
            "Recommendations: [b'kelapa' b'pupuk kompos' b'pupuk npk']\n"
          ]
        }
      ]
    },
    {
      "cell_type": "code",
      "source": [
        "index.save('my_model2')"
      ],
      "metadata": {
        "colab": {
          "base_uri": "https://localhost:8080/"
        },
        "id": "Z58egEdECCDX",
        "outputId": "355f2c7e-5df4-4437-9c89-4d9681e45122"
      },
      "execution_count": 71,
      "outputs": [
        {
          "output_type": "stream",
          "name": "stderr",
          "text": [
            "WARNING:tensorflow:Model's `__init__()` arguments contain non-serializable objects. Please implement a `get_config()` method in the subclassed Model for proper saving and loading. Defaulting to empty config.\n",
            "WARNING:tensorflow:Model's `__init__()` arguments contain non-serializable objects. Please implement a `get_config()` method in the subclassed Model for proper saving and loading. Defaulting to empty config.\n",
            "WARNING:absl:Found untraced functions such as query_with_exclusions while saving (showing 1 of 1). These functions will not be directly callable after loading.\n",
            "WARNING:tensorflow:Model's `__init__()` arguments contain non-serializable objects. Please implement a `get_config()` method in the subclassed Model for proper saving and loading. Defaulting to empty config.\n",
            "WARNING:tensorflow:Model's `__init__()` arguments contain non-serializable objects. Please implement a `get_config()` method in the subclassed Model for proper saving and loading. Defaulting to empty config.\n"
          ]
        }
      ]
    },
    {
      "cell_type": "code",
      "source": [
        "loaded = tf.keras.models.load_model('my_model2', compile=False)"
      ],
      "metadata": {
        "id": "pOs6c3Z2Ee6E"
      },
      "execution_count": 72,
      "outputs": []
    },
    {
      "cell_type": "code",
      "source": [
        "scores, titles = loaded([42])\n",
        "print(f\"Recommendations: {titles[0]}\")"
      ],
      "metadata": {
        "colab": {
          "base_uri": "https://localhost:8080/"
        },
        "id": "WrnUX_6tEpWS",
        "outputId": "cbe39521-c8a7-4362-94f4-703a5a098c3e"
      },
      "execution_count": 73,
      "outputs": [
        {
          "output_type": "stream",
          "name": "stdout",
          "text": [
            "Recommendations: [b'kelapa' b'pupuk kompos' b'pupuk npk' b'pupuk phonska' b'bibit randu'\n",
            " b'bibit kelengkeng' b'lada bubuk' b'bibit kelapa' b'pupuk anorganik'\n",
            " b'tepung mocaf']\n"
          ]
        }
      ]
    },
    {
      "cell_type": "markdown",
      "source": [
        "As expected, we get the same recommendations for user 42."
      ],
      "metadata": {
        "id": "WJ2ObtvD2zY7"
      }
    },
    {
      "cell_type": "markdown",
      "source": [
        "#Deploy model to the Firebase Console"
      ],
      "metadata": {
        "id": "GKzjB0hHssek"
      }
    },
    {
      "cell_type": "code",
      "source": [],
      "metadata": {
        "id": "qfoXdRSAtxaa"
      },
      "execution_count": 73,
      "outputs": []
    },
    {
      "cell_type": "markdown",
      "metadata": {
        "id": "awx9Q73aFyfS"
      },
      "source": [
        "Step 1. Initialize Firebase App Instance"
      ]
    },
    {
      "cell_type": "code",
      "metadata": {
        "id": "NxHAv1OaNo-X"
      },
      "source": [
        "# import firebase_admin\n",
        "\n",
        "# firebase_admin.initialize_app(options={'projectId': projectID,\n",
        "#              'storageBucket': projectID + '.appspot.com' })"
      ],
      "execution_count": 74,
      "outputs": []
    },
    {
      "cell_type": "markdown",
      "metadata": {
        "id": "7PxvbLcNNoxZ"
      },
      "source": [
        "Step 2. Upload the model file to Cloud Storage"
      ]
    },
    {
      "cell_type": "code",
      "metadata": {
        "id": "8WPegXrvdnth"
      },
      "source": [
        "# from firebase_admin import ml\n",
        "\n",
        "# # This uploads it to your bucket as recommendation.tflite\n",
        "# source = ml.TFLiteGCSModelSource.from_saved_model(export_dir, 'model.tflite')\n",
        "# print (source.gcs_tflite_uri)"
      ],
      "execution_count": 75,
      "outputs": []
    },
    {
      "cell_type": "markdown",
      "metadata": {
        "id": "cjUgFOCCF4Ro"
      },
      "source": [
        "Step 3. Deploy the model to Firebase"
      ]
    },
    {
      "cell_type": "code",
      "metadata": {
        "id": "EbPwOU1iF75O"
      },
      "source": [
        "# # Create a Model Format\n",
        "# model_format = ml.TFLiteFormat(model_source=source)\n",
        "\n",
        "# # Create a Model object\n",
        "# sdk_model_1 = ml.Model(display_name=\"recommendations\", model_format=model_format)\n",
        "\n",
        "# # Make the Create API call to create the model in Firebase\n",
        "# firebase_model_1 = ml.create_model(sdk_model_1)\n",
        "# print(firebase_model_1.as_dict())\n",
        "\n",
        "# # Publish the model\n",
        "# model_id = firebase_model_1.model_id\n",
        "# firebase_model_1 = ml.publish_model(model_id)"
      ],
      "execution_count": 76,
      "outputs": []
    }
  ]
}